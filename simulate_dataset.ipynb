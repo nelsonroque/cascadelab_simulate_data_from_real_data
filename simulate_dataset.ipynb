{
 "cells": [
  {
   "cell_type": "code",
   "execution_count": 1,
   "metadata": {},
   "outputs": [
    {
     "name": "stdout",
     "output_type": "stream",
     "text": [
      "Requirement already satisfied: faker in /opt/homebrew/lib/python3.11/site-packages (22.2.0)\n",
      "Requirement already satisfied: python-dateutil>=2.4 in /opt/homebrew/lib/python3.11/site-packages (from faker) (2.8.2)\n",
      "Requirement already satisfied: six>=1.5 in /opt/homebrew/lib/python3.11/site-packages (from python-dateutil>=2.4->faker) (1.16.0)\n",
      "\n",
      "\u001b[1m[\u001b[0m\u001b[34;49mnotice\u001b[0m\u001b[1;39;49m]\u001b[0m\u001b[39;49m A new release of pip is available: \u001b[0m\u001b[31;49m23.3.1\u001b[0m\u001b[39;49m -> \u001b[0m\u001b[32;49m23.3.2\u001b[0m\n",
      "\u001b[1m[\u001b[0m\u001b[34;49mnotice\u001b[0m\u001b[1;39;49m]\u001b[0m\u001b[39;49m To update, run: \u001b[0m\u001b[32;49mpython3.11 -m pip install --upgrade pip\u001b[0m\n",
      "Note: you may need to restart the kernel to use updated packages.\n"
     ]
    }
   ],
   "source": [
    "%pip install faker"
   ]
  },
  {
   "cell_type": "code",
   "execution_count": 2,
   "metadata": {},
   "outputs": [],
   "source": [
    "import pandas as pd\n",
    "import numpy as np\n",
    "from scipy import stats\n",
    "from faker import Faker\n",
    "import random"
   ]
  },
  {
   "cell_type": "code",
   "execution_count": null,
   "metadata": {},
   "outputs": [],
   "source": [
    "# Load your dataset\n",
    "df = pd.read_csv('original_data.csv')\n",
    "\n",
    "# Initialize Faker\n",
    "fake = Faker()\n",
    "\n",
    "# Function to determine if a column is normally distributed\n",
    "def is_normally_distributed(column):\n",
    "    stat, p = stats.shapiro(column.dropna())\n",
    "    return p > 0.05  # If p-value > 0.05, assume normal distribution\n",
    "\n",
    "# Analyzing and generating the synthetic dataset\n",
    "synthetic_data = pd.DataFrame()\n",
    "\n",
    "for column in df.columns:\n",
    "    if df[column].dtype == 'float64' or df[column].dtype == 'int64':\n",
    "        # Check if the column is normally distributed\n",
    "        if is_normally_distributed(df[column]):\n",
    "            mean = df[column].mean()\n",
    "            std = df[column].std()\n",
    "            synthetic_data[column] = np.random.normal(mean, std, df.shape[0])\n",
    "        else:\n",
    "            # Use a different method if not normally distributed\n",
    "            synthetic_data[column] = np.random.choice(df[column].dropna(), size=df.shape[0])\n",
    "    elif df[column].dtype == 'object':\n",
    "        # Ensuring the same frequency distribution for categorical data\n",
    "        categories, frequencies = np.unique(df[column].dropna(), return_counts=True)\n",
    "        probabilities = frequencies / frequencies.sum()\n",
    "        synthetic_data[column] = np.random.choice(categories, size=df.shape[0], p=probabilities)\n",
    "    elif pd.api.types.is_datetime64_any_dtype(df[column]):\n",
    "        # Dealing with dates\n",
    "        start_date = df[column].min()\n",
    "        end_date = df[column].max()\n",
    "        synthetic_data[column] = [fake.date_between(start_date=start_date, end_date=end_date) for _ in range(df.shape[0])]\n",
    "    else:\n",
    "        # Replicate other types as they are\n",
    "        synthetic_data[column] = df[column]\n",
    "\n",
    "# Save the synthetic dataset\n",
    "synthetic_data.to_csv('synthetic_dataset.csv', index=False)\n"
   ]
  }
 ],
 "metadata": {
  "kernelspec": {
   "display_name": "Python 3",
   "language": "python",
   "name": "python3"
  },
  "language_info": {
   "codemirror_mode": {
    "name": "ipython",
    "version": 3
   },
   "file_extension": ".py",
   "mimetype": "text/x-python",
   "name": "python",
   "nbconvert_exporter": "python",
   "pygments_lexer": "ipython3",
   "version": "3.11.4"
  }
 },
 "nbformat": 4,
 "nbformat_minor": 2
}
